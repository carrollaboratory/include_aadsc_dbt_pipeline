{
 "cells": [
  {
   "cell_type": "code",
   "execution_count": null,
   "id": "00cd5e89",
   "metadata": {},
   "outputs": [],
   "source": [
    "import duckdb\n",
    "import pandas as pd\n",
    "con = duckdb.connect(\"/tmp/dbt.duckdb\")"
   ]
  },
  {
   "cell_type": "code",
   "execution_count": null,
   "id": "4a0b75ea",
   "metadata": {},
   "outputs": [],
   "source": [
    "table_schema = 'main_main'\n",
    "table = 'aadsc_stg_clinical'"
   ]
  },
  {
   "cell_type": "markdown",
   "id": "45c5ba79",
   "metadata": {},
   "source": [
    "## DB and Table general info"
   ]
  },
  {
   "cell_type": "code",
   "execution_count": null,
   "id": "9ec94a32",
   "metadata": {},
   "outputs": [],
   "source": [
    "# Fetch tables in the specified schema\n",
    "tables = con.execute(\n",
    "    f\"SELECT table_name FROM information_schema.tables WHERE table_schema = '{table_schema}'\"\n",
    ").fetchall()\n",
    "tables"
   ]
  },
  {
   "cell_type": "code",
   "execution_count": null,
   "id": "b7b2c3af",
   "metadata": {},
   "outputs": [],
   "source": [
    "# Fetch column names of the table\n",
    "query = f\"SELECT name FROM pragma_table_info('{table_schema}.{table}') LIMIT 15\"\n",
    "column_names = con.execute(query).fetchall()\n",
    "column_names"
   ]
  },
  {
   "cell_type": "markdown",
   "id": "e7d1a900",
   "metadata": {},
   "source": [
    "## Sanity checks"
   ]
  },
  {
   "cell_type": "code",
   "execution_count": null,
   "id": "068673d8",
   "metadata": {},
   "outputs": [],
   "source": [
    "view_all = pd.DataFrame(con.execute(\n",
    "        f\"SELECT * FROM {table_schema}.{table} LIMIT 50\"\n",
    "    ).fetchall())\n",
    "view_all"
   ]
  },
  {
   "cell_type": "markdown",
   "id": "cb22e67d",
   "metadata": {},
   "source": [
    "## Investigate columns"
   ]
  },
  {
   "cell_type": "code",
   "execution_count": null,
   "id": "33dd19ab",
   "metadata": {},
   "outputs": [],
   "source": [
    "\n",
    "# Understanding the conditions that mention 'age'. \n",
    "# I believe these cols represent conditions that were diagnosed,\n",
    "#   and the positive assertion was collected via their diagnosis age.\n",
    "\n",
    "dist_age_cols = con.execute(\n",
    "        f\"SELECT DISTINCT cardiac_pfo_age,cardiac_pda_age,skin_acne_age,skin_alopecia_age,cardiac_asd_age,cardiac_tof_age,cardiac_vsd_age FROM {table_schema}.{table}\"\n",
    "    ).fetchall()\n",
    "# dist_age_cols"
   ]
  },
  {
   "cell_type": "code",
   "execution_count": null,
   "id": "bdb0308e",
   "metadata": {},
   "outputs": [],
   "source": [
    "# Investigate the extraction_date col\n",
    "# Seems to be the data extraction date, not necessary for transformations.\n",
    "\n",
    "extraction_date = con.execute(\n",
    "        f\"SELECT distinct extraction_date FROM {table_schema}.{table}\"\n",
    "    ).fetchall()"
   ]
  },
  {
   "cell_type": "code",
   "execution_count": null,
   "id": "c0b6cff4",
   "metadata": {},
   "outputs": [],
   "source": []
  },
  {
   "cell_type": "code",
   "execution_count": null,
   "id": "88040810",
   "metadata": {},
   "outputs": [],
   "source": [
    "# Ensure understanding of the bmi field\n",
    "# Catch where the calculation of bmi doesn't seem correct.\n",
    "\n",
    "bmi_issues = con.execute(\n",
    "f\"SELECT height, weight, bmi, \\\n",
    "       (cast(weight as float) / (cast(height as float) * cast(height as float))) * 703 AS calculated_bmi, \\\n",
    "       cast(bmi as float) AS stored_bmi \\\n",
    "FROM {table_schema}.{table} \\\n",
    "WHERE (cast(weight as float) / (cast(height as float) * cast(height as float))) * 703 NOT BETWEEN cast(bmi as float) - 1 AND cast(bmi as float) + 1;\").fetchall()\n",
    "bmi_issues"
   ]
  },
  {
   "cell_type": "markdown",
   "id": "b1a3998c",
   "metadata": {},
   "source": [
    "## Notes \n",
    "\n",
    "Copy results to a csv <br>\n",
    "    ```\n",
    "        to_csv = con.execute( \n",
    "        f\"COPY (SELECT DISTINCT cardiac_pfo_age,cardiac_pda_age,skin_acne_age,skin_alopecia_age,cardiac_asd_age,cardiac_tof_age,cardiac_vsd_age FROM {table_schema}.{table}) TO 'output_src.csv' (HEADER, DELIMITER ',')\"\n",
    "    ).fetchall()\n",
    "    ```"
   ]
  }
 ],
 "metadata": {
  "kernelspec": {
   "display_name": "Python 3",
   "language": "python",
   "name": "python3"
  },
  "language_info": {
   "codemirror_mode": {
    "name": "ipython",
    "version": 3
   },
   "file_extension": ".py",
   "mimetype": "text/x-python",
   "name": "python",
   "nbconvert_exporter": "python",
   "pygments_lexer": "ipython3",
   "version": "3.12.4"
  }
 },
 "nbformat": 4,
 "nbformat_minor": 5
}
