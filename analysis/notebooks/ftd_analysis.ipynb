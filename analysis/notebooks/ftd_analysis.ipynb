{
 "cells": [
  {
   "cell_type": "code",
   "execution_count": null,
   "id": "00cd5e89",
   "metadata": {},
   "outputs": [],
   "source": [
    "import duckdb\n",
    "import pandas as pd\n",
    "con = duckdb.connect(\"/tmp/dbt.duckdb\")"
   ]
  },
  {
   "cell_type": "code",
   "execution_count": null,
   "id": "4a0b75ea",
   "metadata": {},
   "outputs": [],
   "source": [
    "table_schema = 'main_aadsc_data'\n",
    "p = 'aadsc_ftd_participant'\n",
    "c = 'aadsc_ftd_condition'\n",
    "s = 'aadsc_ftd_study'\n",
    "\n",
    "tables = [p,c,s]"
   ]
  },
  {
   "cell_type": "markdown",
   "id": "45c5ba79",
   "metadata": {},
   "source": [
    "## DB and Table general info"
   ]
  },
  {
   "cell_type": "code",
   "execution_count": null,
   "id": "9ec94a32",
   "metadata": {},
   "outputs": [],
   "source": [
    "# Fetch tables in the specified schema\n",
    "t = con.execute(\n",
    "    f\"SELECT table_name FROM information_schema.tables WHERE table_schema = '{table_schema}'\"\n",
    ").fetchall()\n",
    "t"
   ]
  },
  {
   "cell_type": "code",
   "execution_count": null,
   "id": "b7b2c3af",
   "metadata": {},
   "outputs": [],
   "source": [
    "# Fetch column names of the table\n",
    "for table in tables:\n",
    "    # if table == 'aadsc_ftd_participant':\n",
    "    query = f\"SELECT name FROM pragma_table_info('{table_schema}.{table}') LIMIT 15\"\n",
    "    column_names = con.execute(query).fetchall()\n",
    "    print(f\"column_names of table: {table}\\n {column_names}\")"
   ]
  },
  {
   "cell_type": "markdown",
   "id": "e7d1a900",
   "metadata": {},
   "source": [
    "## Sanity checks"
   ]
  },
  {
   "cell_type": "code",
   "execution_count": null,
   "id": "068673d8",
   "metadata": {},
   "outputs": [],
   "source": [
    "view_all = pd.DataFrame(con.execute(\n",
    "        f\"SELECT * FROM {table_schema}.{p} LIMIT 5\"\n",
    "    ).fetchall())\n",
    "view_all"
   ]
  },
  {
   "cell_type": "code",
   "execution_count": null,
   "id": "cc41a934",
   "metadata": {},
   "outputs": [],
   "source": [
    "view_all = pd.DataFrame(con.execute(\n",
    "        f\"SELECT * FROM {table_schema}.{c} LIMIT 5\"\n",
    "    ).fetchall())\n",
    "view_all"
   ]
  },
  {
   "cell_type": "code",
   "execution_count": null,
   "id": "6263e08e",
   "metadata": {},
   "outputs": [],
   "source": [
    "view_all = pd.DataFrame(con.execute(\n",
    "        f\"SELECT * FROM {table_schema}.{p} LIMIT 5\"\n",
    "    ).fetchall())\n",
    "view_all"
   ]
  },
  {
   "cell_type": "markdown",
   "id": "cb22e67d",
   "metadata": {},
   "source": [
    "## Investigate columns"
   ]
  },
  {
   "cell_type": "code",
   "execution_count": null,
   "id": "88040810",
   "metadata": {},
   "outputs": [],
   "source": [
    "# Count all rows \n",
    "count_all = con.execute(\n",
    "    f\"SELECT COUNT(*) FROM {table_schema}.{c}\"\n",
    ").fetchall()\n",
    "print(f\"\\nCount n_rows: {count_all}\")\n",
    "\n",
    "# Count rows where missing mappings\n",
    "count_null = con.execute(\n",
    "    f\"SELECT COUNT(*) as n_no_mapping FROM {table_schema}.{c} WHERE hpo_code IS NULL AND mondo_code IS NULL AND other_code IS NULL\"\n",
    ").fetchall()\n",
    "print(f\"\\nERROR: Count of rows where MISSING mapping: {count_null}\")\n",
    "\n",
    "#    Count rows where there are mappings\n",
    "count_not_null = con.execute(\n",
    "    f\"SELECT COUNT(*) as n_have_mapping FROM {table_schema}.{c} WHERE hpo_code IS NOT NULL OR mondo_code IS NOT NULL OR other_code IS NOT NULL\"\n",
    ").fetchall()\n",
    "print(f\"\\nCount of rows where one column is NOT NULL: {count_not_null}\")\n"
   ]
  },
  {
   "cell_type": "code",
   "execution_count": null,
   "id": "729ec0aa",
   "metadata": {},
   "outputs": [],
   "source": [
    "dist_cond = con.execute(\n",
    "f\"SELECT distinct ethnicity FROM {table_schema}.{p}\"\n",
    ").fetchall()\n",
    "print(f\"\\nView distinct ethnicities. {dist_cond}\")"
   ]
  },
  {
   "cell_type": "code",
   "execution_count": null,
   "id": "751154a1",
   "metadata": {},
   "outputs": [],
   "source": []
  },
  {
   "cell_type": "markdown",
   "id": "b1a3998c",
   "metadata": {},
   "source": [
    "## Notes \n",
    "\n",
    "Copy results to a csv <br>\n",
    "    ```\n",
    "        to_csv = con.execute( \n",
    "        f\"COPY (SELECT DISTINCT cardiac_pfo_age,cardiac_pda_age,skin_acne_age,skin_alopecia_age,cardiac_asd_age,cardiac_tof_age,cardiac_vsd_age FROM {table_schema}.{table}) TO 'output_src.csv' (HEADER, DELIMITER ',')\"\n",
    "    ).fetchall()\n",
    "    ```"
   ]
  }
 ],
 "metadata": {
  "kernelspec": {
   "display_name": "Python 3",
   "language": "python",
   "name": "python3"
  },
  "language_info": {
   "codemirror_mode": {
    "name": "ipython",
    "version": 3
   },
   "file_extension": ".py",
   "mimetype": "text/x-python",
   "name": "python",
   "nbconvert_exporter": "python",
   "pygments_lexer": "ipython3",
   "version": "3.12.4"
  }
 },
 "nbformat": 4,
 "nbformat_minor": 5
}
